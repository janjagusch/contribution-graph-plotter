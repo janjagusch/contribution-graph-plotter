{
 "cells": [
  {
   "cell_type": "markdown",
   "id": "frank-crest",
   "metadata": {},
   "source": [
    "# How to plot a contribution graph"
   ]
  },
  {
   "cell_type": "code",
   "execution_count": 1,
   "id": "affected-intent",
   "metadata": {},
   "outputs": [],
   "source": [
    "from collections import Counter"
   ]
  },
  {
   "cell_type": "code",
   "execution_count": 2,
   "id": "serial-letter",
   "metadata": {},
   "outputs": [],
   "source": [
    "from imageio import imread\n",
    "from sklearn.cluster import KMeans\n",
    "import numpy as np"
   ]
  },
  {
   "cell_type": "code",
   "execution_count": 3,
   "id": "proper-referral",
   "metadata": {},
   "outputs": [],
   "source": [
    "from contribution_graph_plotter import plot"
   ]
  },
  {
   "cell_type": "code",
   "execution_count": 4,
   "id": "accessory-flash",
   "metadata": {},
   "outputs": [],
   "source": [
    "img = imread(\"../examples/python.png\", format=\"png\")"
   ]
  },
  {
   "cell_type": "code",
   "execution_count": 5,
   "id": "fancy-analysis",
   "metadata": {},
   "outputs": [],
   "source": [
    "# Grouping all existing colors in the image into 5 clusters,\n",
    "# since we can only use 5 colors in the contribution graph.\n",
    "\n",
    "colors = img.reshape(-1, img.shape[2])\n",
    "clusterer = KMeans(n_clusters=5)\n",
    "clusters = clusterer.fit_predict(colors)"
   ]
  },
  {
   "cell_type": "code",
   "execution_count": 6,
   "id": "guided-petersburg",
   "metadata": {},
   "outputs": [],
   "source": [
    "# Personal taste: the smaller the cluster, the brighter the color.\n",
    "# Set `reverse=False` for opposite effect.\n",
    "\n",
    "cluster_map = Counter(clusters)\n",
    "cluster_map = {item[0]: i for i, item in enumerate(sorted(cluster_map.items(), key=lambda item: item[1], reverse=True))}\n",
    "clusters = [cluster_map[val] for val in clusters]"
   ]
  },
  {
   "cell_type": "code",
   "execution_count": 7,
   "id": "agricultural-appraisal",
   "metadata": {},
   "outputs": [],
   "source": [
    "contribution_graph = np.array(clusters).reshape(img.shape[:2])\n",
    "plot(contribution_graph, \"../examples/python.svg\")"
   ]
  }
 ],
 "metadata": {
  "kernelspec": {
   "display_name": "Python 3",
   "language": "python",
   "name": "python3"
  },
  "language_info": {
   "codemirror_mode": {
    "name": "ipython",
    "version": 3
   },
   "file_extension": ".py",
   "mimetype": "text/x-python",
   "name": "python",
   "nbconvert_exporter": "python",
   "pygments_lexer": "ipython3",
   "version": "3.8.0"
  }
 },
 "nbformat": 4,
 "nbformat_minor": 5
}
